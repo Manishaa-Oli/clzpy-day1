{
 "cells": [
  {
   "cell_type": "code",
   "execution_count": 1,
   "id": "ebe6a704",
   "metadata": {},
   "outputs": [
    {
     "name": "stdout",
     "output_type": "stream",
     "text": [
      "['maths', 'science', 'account', 'physics']\n",
      "physics\n",
      "['maths', 'science', 'account']\n",
      "['physics', 'account', 'science', 'maths']\n"
     ]
    }
   ],
   "source": [
    "sub=['maths','science','account','physics']\n",
    "print(sub)\n",
    "print(sub[3])\n",
    "print(sub[0:3])\n",
    "print(sub[::-1])\n"
   ]
  },
  {
   "cell_type": "code",
   "execution_count": 2,
   "id": "eaa7e504",
   "metadata": {},
   "outputs": [
    {
     "name": "stdout",
     "output_type": "stream",
     "text": [
      "['__add__', '__class__', '__class_getitem__', '__contains__', '__delattr__', '__delitem__', '__dir__', '__doc__', '__eq__', '__format__', '__ge__', '__getattribute__', '__getitem__', '__getstate__', '__gt__', '__hash__', '__iadd__', '__imul__', '__init__', '__init_subclass__', '__iter__', '__le__', '__len__', '__lt__', '__mul__', '__ne__', '__new__', '__reduce__', '__reduce_ex__', '__repr__', '__reversed__', '__rmul__', '__setattr__', '__setitem__', '__sizeof__', '__str__', '__subclasshook__', 'append', 'clear', 'copy', 'count', 'extend', 'index', 'insert', 'pop', 'remove', 'reverse', 'sort']\n"
     ]
    }
   ],
   "source": [
    "print(dir(sub))"
   ]
  },
  {
   "cell_type": "code",
   "execution_count": 5,
   "id": "6251400b",
   "metadata": {},
   "outputs": [
    {
     "name": "stdout",
     "output_type": "stream",
     "text": [
      "4\n",
      "['chemistry', 'science', 'account', 'physics']\n"
     ]
    }
   ],
   "source": [
    "print(len(sub))\n",
    "sub[0]='chemistry'\n",
    "'bio'in sub\n",
    "print(sub)"
   ]
  },
  {
   "cell_type": "code",
   "execution_count": null,
   "id": "4c461cc3",
   "metadata": {},
   "outputs": [
    {
     "name": "stdout",
     "output_type": "stream",
     "text": [
      "['physics', 'c++', 'c++', 'c++', 'c++', 'c++', 'c++']\n"
     ]
    }
   ],
   "source": [
    "sub.append('c++')\n",
    "sub.remove('chemistry')\n",
    "print(sub)"
   ]
  },
  {
   "cell_type": "code",
   "execution_count": 16,
   "id": "f9a71560",
   "metadata": {},
   "outputs": [
    {
     "name": "stdout",
     "output_type": "stream",
     "text": [
      "['physics', 'c++', 'c++', 'c++', 'c++', 'c++', 'c++']\n"
     ]
    },
    {
     "data": {
      "text/plain": [
       "'c++'"
      ]
     },
     "execution_count": 16,
     "metadata": {},
     "output_type": "execute_result"
    }
   ],
   "source": [
    "print(sub)\n",
    "sub.pop(1)"
   ]
  },
  {
   "cell_type": "code",
   "execution_count": 17,
   "id": "42731784",
   "metadata": {},
   "outputs": [
    {
     "name": "stdout",
     "output_type": "stream",
     "text": [
      "['phy', 'chem', 'mth', 'acc']\n"
     ]
    }
   ],
   "source": [
    "subj=['phy','chem','mth']\n",
    "subj.append('acc')\n",
    "print(subj)"
   ]
  },
  {
   "cell_type": "code",
   "execution_count": 18,
   "id": "b935da70",
   "metadata": {},
   "outputs": [],
   "source": [
    "subj.remove('phy')"
   ]
  },
  {
   "cell_type": "code",
   "execution_count": 20,
   "id": "319b692d",
   "metadata": {},
   "outputs": [
    {
     "name": "stdout",
     "output_type": "stream",
     "text": [
      "['chem', 'mth', 'acc']\n"
     ]
    }
   ],
   "source": [
    "print(subj)"
   ]
  },
  {
   "cell_type": "code",
   "execution_count": 21,
   "id": "06eb28c7",
   "metadata": {},
   "outputs": [
    {
     "data": {
      "text/plain": [
       "'mth'"
      ]
     },
     "execution_count": 21,
     "metadata": {},
     "output_type": "execute_result"
    }
   ],
   "source": [
    "subj.pop(1)"
   ]
  },
  {
   "cell_type": "code",
   "execution_count": 22,
   "id": "29986f02",
   "metadata": {},
   "outputs": [
    {
     "name": "stdout",
     "output_type": "stream",
     "text": [
      "['chem', 'acc']\n"
     ]
    }
   ],
   "source": [
    "print(subj)"
   ]
  },
  {
   "cell_type": "code",
   "execution_count": 25,
   "id": "c1be5c32",
   "metadata": {},
   "outputs": [
    {
     "name": "stdout",
     "output_type": "stream",
     "text": [
      "['chem', 'acc', 'c', 'c', 'bio']\n"
     ]
    }
   ],
   "source": [
    "subj.append('c')\n",
    "subj.append('bio')\n",
    "print(subj)"
   ]
  },
  {
   "cell_type": "code",
   "execution_count": 27,
   "id": "87c5d1aa",
   "metadata": {},
   "outputs": [
    {
     "name": "stdout",
     "output_type": "stream",
     "text": [
      "['acc', 'bio', 'c', 'c', 'chem']\n"
     ]
    }
   ],
   "source": [
    "subj.sort()\n",
    "print(subj)"
   ]
  },
  {
   "cell_type": "code",
   "execution_count": 28,
   "id": "595ea3c3",
   "metadata": {},
   "outputs": [],
   "source": [
    "subj.reverse()"
   ]
  },
  {
   "cell_type": "code",
   "execution_count": 30,
   "id": "989937a7",
   "metadata": {},
   "outputs": [
    {
     "name": "stdout",
     "output_type": "stream",
     "text": [
      "['chem', 'c', 'c', 'bio', 'acc']\n",
      "1\n"
     ]
    }
   ],
   "source": [
    "print(subj)\n",
    "print(subj.index('c'))\n"
   ]
  },
  {
   "cell_type": "code",
   "execution_count": 33,
   "id": "4266d94f",
   "metadata": {},
   "outputs": [
    {
     "name": "stdout",
     "output_type": "stream",
     "text": [
      "True\n",
      "True\n",
      "True\n"
     ]
    }
   ],
   "source": [
    "l1=[1,2,[4,5]]\n",
    "print(1 in l1)\n",
    "print([4,5]in l1)\n",
    "print(4 in l1[2])"
   ]
  },
  {
   "cell_type": "code",
   "execution_count": 39,
   "id": "4dd2c8a8",
   "metadata": {},
   "outputs": [
    {
     "name": "stdout",
     "output_type": "stream",
     "text": [
      "[7, 9, 0, [2, 4, 6]]\n",
      "0\n"
     ]
    }
   ],
   "source": [
    "l2=[1,3,5,[7,9,0,[2,4,6]]]\n",
    "print(l2[3])\n",
    "print(l2[3][2])"
   ]
  },
  {
   "cell_type": "code",
   "execution_count": null,
   "id": "e4e32faf",
   "metadata": {},
   "outputs": [
    {
     "name": "stdout",
     "output_type": "stream",
     "text": [
      "[1, 4, 9, 16, 25]\n"
     ]
    }
   ],
   "source": [
    "sqr=[x**2 for x in range(1,6)]#list comprehension\n",
    "print(sqr)"
   ]
  },
  {
   "cell_type": "code",
   "execution_count": 41,
   "id": "6a842ee7",
   "metadata": {},
   "outputs": [
    {
     "name": "stdout",
     "output_type": "stream",
     "text": [
      "['NEPAL', 'IND', 'CHINA']\n"
     ]
    }
   ],
   "source": [
    "countries=['nepal','ind','china']\n",
    "uppercased=[country.upper() for country in countries]\n",
    "print(uppercased)"
   ]
  },
  {
   "cell_type": "code",
   "execution_count": 47,
   "id": "5c55596a",
   "metadata": {},
   "outputs": [
    {
     "name": "stdout",
     "output_type": "stream",
     "text": [
      "{'f', 'c', 'b', 'a'}\n"
     ]
    }
   ],
   "source": [
    "alpha={'a','b','c','c','f'}#we can\"t alter values but can add or remove elements\n",
    "print(alpha)#since set is unordered hence op is not in sequence"
   ]
  },
  {
   "cell_type": "code",
   "execution_count": 51,
   "id": "49a58aed",
   "metadata": {},
   "outputs": [],
   "source": [
    "alpha.remove('b')\n"
   ]
  },
  {
   "cell_type": "code",
   "execution_count": null,
   "id": "ce843f3c",
   "metadata": {},
   "outputs": [],
   "source": [
    "print(alpha)\n",
    "alpha.pop()\n",
    "print(alpha)\n",
    "alpha.discard('a')#doesn't throw error"
   ]
  },
  {
   "cell_type": "code",
   "execution_count": 55,
   "id": "06b1ed92",
   "metadata": {},
   "outputs": [
    {
     "name": "stdout",
     "output_type": "stream",
     "text": [
      "['__add__', '__class__', '__class_getitem__', '__contains__', '__delattr__', '__dir__', '__doc__', '__eq__', '__format__', '__ge__', '__getattribute__', '__getitem__', '__getnewargs__', '__getstate__', '__gt__', '__hash__', '__init__', '__init_subclass__', '__iter__', '__le__', '__len__', '__lt__', '__mul__', '__ne__', '__new__', '__reduce__', '__reduce_ex__', '__repr__', '__rmul__', '__setattr__', '__sizeof__', '__str__', '__subclasshook__', 'count', 'index']\n"
     ]
    }
   ],
   "source": [
    "#tuples\n",
    "num=('one','one','two','three','four')\n",
    "print(dir(num))#to see methods related to tuples\n"
   ]
  },
  {
   "cell_type": "code",
   "execution_count": 56,
   "id": "bd440ed2",
   "metadata": {},
   "outputs": [
    {
     "name": "stdout",
     "output_type": "stream",
     "text": [
      "5\n",
      "one\n",
      "2\n"
     ]
    }
   ],
   "source": [
    "print(len(num))\n",
    "print(num[1])\n",
    "print(num.count('one'))"
   ]
  },
  {
   "cell_type": "code",
   "execution_count": null,
   "id": "fc2582ca",
   "metadata": {},
   "outputs": [
    {
     "name": "stdout",
     "output_type": "stream",
     "text": [
      "('one', 'one', 'two', 'three', 'four', 'five')\n"
     ]
    }
   ],
   "source": [
    "y=('five',)#without comma it would be a string only not a element of a tuple\n",
    "num+=y\n",
    "print(num)"
   ]
  },
  {
   "cell_type": "code",
   "execution_count": 58,
   "id": "023dac83",
   "metadata": {},
   "outputs": [
    {
     "name": "stdout",
     "output_type": "stream",
     "text": [
      "carrot\n",
      "tomato\n",
      "potato\n"
     ]
    }
   ],
   "source": [
    "#tuple unpacking\n",
    "veg=('carrot','tomato','potato')\n",
    "(green,yellow,red)=veg\n",
    "print(green)\n",
    "print(yellow)\n",
    "print(red)\n"
   ]
  },
  {
   "cell_type": "code",
   "execution_count": 62,
   "id": "a57cf6e1",
   "metadata": {},
   "outputs": [
    {
     "name": "stdout",
     "output_type": "stream",
     "text": [
      "carrot\n",
      "tomato\n",
      "['potato']\n"
     ]
    }
   ],
   "source": [
    "(green,yellow,*red)=veg\n",
    "print(green)\n",
    "print(yellow)\n",
    "print(red)"
   ]
  },
  {
   "cell_type": "code",
   "execution_count": 63,
   "id": "bc4f60b9",
   "metadata": {},
   "outputs": [
    {
     "data": {
      "text/plain": [
       "['a', 'p', 'p', 'l', 'e', 's']"
      ]
     },
     "execution_count": 63,
     "metadata": {},
     "output_type": "execute_result"
    }
   ],
   "source": [
    "#nested tuple\n",
    "#l=('a','b',('2','1'))\n",
    "fruits=('apples')\n",
    "list(fruits)\n"
   ]
  },
  {
   "cell_type": "code",
   "execution_count": 64,
   "id": "10548291",
   "metadata": {},
   "outputs": [
    {
     "name": "stdout",
     "output_type": "stream",
     "text": [
      "[1, 'i', 2.0, True] (1, 'i', 2.0, True) {1, 'i', 2.0}\n"
     ]
    }
   ],
   "source": [
    "list=[1,'i',2.0,True]\n",
    "tuple=(1,'i',2.0,True)\n",
    "set={1,'i',2.0,True}\n",
    "print(list,tuple,set)"
   ]
  },
  {
   "cell_type": "code",
   "execution_count": 67,
   "id": "538fb10e",
   "metadata": {},
   "outputs": [
    {
     "name": "stdout",
     "output_type": "stream",
     "text": [
      "true\n"
     ]
    }
   ],
   "source": [
    "f=['apples','orange','grapes']\n",
    "if 'apples' in f:\n",
    "    print('true')\n",
    "else:\n",
    "    print('false')"
   ]
  },
  {
   "cell_type": "code",
   "execution_count": null,
   "id": "19b45f14",
   "metadata": {},
   "outputs": [
    {
     "name": "stdout",
     "output_type": "stream",
     "text": [
      "apples\n",
      "orange\n",
      "grapes\n",
      "['apples', 'orange', 'grapes', 'apples', 'orange', 'grapes']\n"
     ]
    }
   ],
   "source": [
    "i=0\n",
    "while i<len(f):\n",
    "    print(f[i])\n",
    "    i=i+1\n",
    "print(f*2)\n",
    "#tuple is faster\n",
    "          "
   ]
  },
  {
   "cell_type": "code",
   "execution_count": 71,
   "id": "a6ff4baf",
   "metadata": {},
   "outputs": [
    {
     "name": "stdout",
     "output_type": "stream",
     "text": [
      "20\n",
      "20\n",
      "['__class__', '__class_getitem__', '__contains__', '__delattr__', '__delitem__', '__dir__', '__doc__', '__eq__', '__format__', '__ge__', '__getattribute__', '__getitem__', '__getstate__', '__gt__', '__hash__', '__init__', '__init_subclass__', '__ior__', '__iter__', '__le__', '__len__', '__lt__', '__ne__', '__new__', '__or__', '__reduce__', '__reduce_ex__', '__repr__', '__reversed__', '__ror__', '__setattr__', '__setitem__', '__sizeof__', '__str__', '__subclasshook__', 'clear', 'copy', 'fromkeys', 'get', 'items', 'keys', 'pop', 'popitem', 'setdefault', 'update', 'values']\n",
      "Help on dict object:\n",
      "\n",
      "class dict(object)\n",
      " |  dict() -> new empty dictionary\n",
      " |  dict(mapping) -> new dictionary initialized from a mapping object's\n",
      " |      (key, value) pairs\n",
      " |  dict(iterable) -> new dictionary initialized as if via:\n",
      " |      d = {}\n",
      " |      for k, v in iterable:\n",
      " |          d[k] = v\n",
      " |  dict(**kwargs) -> new dictionary initialized with the name=value pairs\n",
      " |      in the keyword argument list.  For example:  dict(one=1, two=2)\n",
      " |\n",
      " |  Methods defined here:\n",
      " |\n",
      " |  __contains__(self, key, /)\n",
      " |      True if the dictionary has the specified key, else False.\n",
      " |\n",
      " |  __delitem__(self, key, /)\n",
      " |      Delete self[key].\n",
      " |\n",
      " |  __eq__(self, value, /)\n",
      " |      Return self==value.\n",
      " |\n",
      " |  __ge__(self, value, /)\n",
      " |      Return self>=value.\n",
      " |\n",
      " |  __getattribute__(self, name, /)\n",
      " |      Return getattr(self, name).\n",
      " |\n",
      " |  __getitem__(self, key, /)\n",
      " |      Return self[key].\n",
      " |\n",
      " |  __gt__(self, value, /)\n",
      " |      Return self>value.\n",
      " |\n",
      " |  __init__(self, /, *args, **kwargs)\n",
      " |      Initialize self.  See help(type(self)) for accurate signature.\n",
      " |\n",
      " |  __ior__(self, value, /)\n",
      " |      Return self|=value.\n",
      " |\n",
      " |  __iter__(self, /)\n",
      " |      Implement iter(self).\n",
      " |\n",
      " |  __le__(self, value, /)\n",
      " |      Return self<=value.\n",
      " |\n",
      " |  __len__(self, /)\n",
      " |      Return len(self).\n",
      " |\n",
      " |  __lt__(self, value, /)\n",
      " |      Return self<value.\n",
      " |\n",
      " |  __ne__(self, value, /)\n",
      " |      Return self!=value.\n",
      " |\n",
      " |  __or__(self, value, /)\n",
      " |      Return self|value.\n",
      " |\n",
      " |  __repr__(self, /)\n",
      " |      Return repr(self).\n",
      " |\n",
      " |  __reversed__(self, /)\n",
      " |      Return a reverse iterator over the dict keys.\n",
      " |\n",
      " |  __ror__(self, value, /)\n",
      " |      Return value|self.\n",
      " |\n",
      " |  __setitem__(self, key, value, /)\n",
      " |      Set self[key] to value.\n",
      " |\n",
      " |  __sizeof__(self, /)\n",
      " |      Return the size of the dict in memory, in bytes.\n",
      " |\n",
      " |  clear(self, /)\n",
      " |      Remove all items from the dict.\n",
      " |\n",
      " |  copy(self, /)\n",
      " |      Return a shallow copy of the dict.\n",
      " |\n",
      " |  get(self, key, default=None, /)\n",
      " |      Return the value for key if key is in the dictionary, else default.\n",
      " |\n",
      " |  items(self, /)\n",
      " |      Return a set-like object providing a view on the dict's items.\n",
      " |\n",
      " |  keys(self, /)\n",
      " |      Return a set-like object providing a view on the dict's keys.\n",
      " |\n",
      " |  pop(self, key, default=<unrepresentable>, /)\n",
      " |      D.pop(k[,d]) -> v, remove specified key and return the corresponding value.\n",
      " |\n",
      " |      If the key is not found, return the default if given; otherwise,\n",
      " |      raise a KeyError.\n",
      " |\n",
      " |  popitem(self, /)\n",
      " |      Remove and return a (key, value) pair as a 2-tuple.\n",
      " |\n",
      " |      Pairs are returned in LIFO (last-in, first-out) order.\n",
      " |      Raises KeyError if the dict is empty.\n",
      " |\n",
      " |  setdefault(self, key, default=None, /)\n",
      " |      Insert key with a value of default if key is not in the dictionary.\n",
      " |\n",
      " |      Return the value for key if key is in the dictionary, else default.\n",
      " |\n",
      " |  update(...)\n",
      " |      D.update([E, ]**F) -> None.  Update D from mapping/iterable E and F.\n",
      " |      If E is present and has a .keys() method, then does:  for k in E.keys(): D[k] = E[k]\n",
      " |      If E is present and lacks a .keys() method, then does:  for k, v in E: D[k] = v\n",
      " |      In either case, this is followed by: for k in F:  D[k] = F[k]\n",
      " |\n",
      " |  values(self, /)\n",
      " |      Return an object providing a view on the dict's values.\n",
      " |\n",
      " |  ----------------------------------------------------------------------\n",
      " |  Class methods defined here:\n",
      " |\n",
      " |  __class_getitem__(object, /)\n",
      " |      See PEP 585\n",
      " |\n",
      " |  fromkeys(iterable, value=None, /)\n",
      " |      Create a new dictionary with keys from iterable and values set to value.\n",
      " |\n",
      " |  ----------------------------------------------------------------------\n",
      " |  Static methods defined here:\n",
      " |\n",
      " |  __new__(*args, **kwargs)\n",
      " |      Create and return a new object.  See help(type) for accurate signature.\n",
      " |\n",
      " |  ----------------------------------------------------------------------\n",
      " |  Data and other attributes defined here:\n",
      " |\n",
      " |  __hash__ = None\n",
      "\n",
      "None\n"
     ]
    }
   ],
   "source": [
    "\n",
    "std={\n",
    "    1:'first',\n",
    "    'name':'manisha',\n",
    "    'age':20,\n",
    "    'course':['be','com']\n",
    "}\n",
    "print(std['age'])\n",
    "print(std.get('age'))\n",
    "print(dir(std))\n",
    "print(help(std))"
   ]
  },
  {
   "cell_type": "code",
   "execution_count": 72,
   "id": "ae383ed3",
   "metadata": {},
   "outputs": [
    {
     "name": "stdout",
     "output_type": "stream",
     "text": [
      "{1: 'first', 'name': 'manisha', 'age': 20, 'course': ['be', 'com']}\n"
     ]
    }
   ],
   "source": [
    "print(std)"
   ]
  },
  {
   "cell_type": "code",
   "execution_count": 73,
   "id": "9176deca",
   "metadata": {},
   "outputs": [],
   "source": [
    "del std['age']"
   ]
  },
  {
   "cell_type": "code",
   "execution_count": 74,
   "id": "b1044bdb",
   "metadata": {},
   "outputs": [
    {
     "name": "stdout",
     "output_type": "stream",
     "text": [
      "name exists\n"
     ]
    }
   ],
   "source": [
    "if 'manisha' in std.values():\n",
    "    print(\"name exists\")\n",
    "else:\n",
    "    print(\"unavailable\")"
   ]
  },
  {
   "cell_type": "code",
   "execution_count": 80,
   "id": "cdee33ff",
   "metadata": {},
   "outputs": [
    {
     "name": "stdout",
     "output_type": "stream",
     "text": [
      "1\n",
      "name\n",
      "course\n"
     ]
    }
   ],
   "source": [
    "for key in std:\n",
    "    print(key)\n",
    "\n"
   ]
  },
  {
   "cell_type": "code",
   "execution_count": 78,
   "id": "ffdeca97",
   "metadata": {},
   "outputs": [
    {
     "name": "stdout",
     "output_type": "stream",
     "text": [
      "first\n",
      "manisha\n",
      "['be', 'com']\n"
     ]
    }
   ],
   "source": [
    "for value in std.values():\n",
    "    print(value)"
   ]
  },
  {
   "cell_type": "code",
   "execution_count": 79,
   "id": "921d1f45",
   "metadata": {},
   "outputs": [
    {
     "name": "stdout",
     "output_type": "stream",
     "text": [
      "1 first\n",
      "name manisha\n",
      "course ['be', 'com']\n"
     ]
    }
   ],
   "source": [
    "for key,value in std.items():\n",
    "    print(key,value)"
   ]
  },
  {
   "cell_type": "code",
   "execution_count": null,
   "id": "61842647",
   "metadata": {},
   "outputs": [],
   "source": []
  }
 ],
 "metadata": {
  "kernelspec": {
   "display_name": "Python 3",
   "language": "python",
   "name": "python3"
  },
  "language_info": {
   "codemirror_mode": {
    "name": "ipython",
    "version": 3
   },
   "file_extension": ".py",
   "mimetype": "text/x-python",
   "name": "python",
   "nbconvert_exporter": "python",
   "pygments_lexer": "ipython3",
   "version": "3.13.1"
  }
 },
 "nbformat": 4,
 "nbformat_minor": 5
}
